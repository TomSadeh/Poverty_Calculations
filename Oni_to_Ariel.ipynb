{
 "cells": [
  {
   "cell_type": "markdown",
   "metadata": {},
   "source": [
    "Importing the required libraries."
   ]
  },
  {
   "cell_type": "code",
   "execution_count": 69,
   "metadata": {},
   "outputs": [],
   "source": [
    "import pandas as pd\n",
    "import numpy as np"
   ]
  },
  {
   "cell_type": "markdown",
   "metadata": {},
   "source": [
    "Creating a function to calculate weighted median"
   ]
  },
  {
   "cell_type": "code",
   "execution_count": 70,
   "metadata": {},
   "outputs": [],
   "source": [
    "def weighted_median(data, weights):\n",
    "    data = np.array(data)\n",
    "    weights =  np.array(weights)\n",
    "    ind_sorted = np.argsort(data)\n",
    "    sorted_data = data[ind_sorted]\n",
    "    sorted_weights = weights[ind_sorted]\n",
    "    sn = np.cumsum(sorted_weights)\n",
    "    return np.interp(0.5, (sn - 0.5 * sorted_weights) / np.sum(sorted_weights), sorted_data)"
   ]
  },
  {
   "cell_type": "markdown",
   "metadata": {},
   "source": [
    "Creating a function to calculate standard persons according to the National Insurance Institue criteria."
   ]
  },
  {
   "cell_type": "code",
   "execution_count": 71,
   "metadata": {},
   "outputs": [],
   "source": [
    "def nefesh_btl(x):\n",
    "    l = [1.25, 2, 2.65, 3.2, 3.75, 4.25, 4.75, 5.2]\n",
    "    if x <= len(l) - 1:\n",
    "        return l[int(x - 1)]\n",
    "    else:\n",
    "        return 5.6 + (x - 9) * 0.4"
   ]
  },
  {
   "cell_type": "markdown",
   "metadata": {},
   "source": [
    "Creating some lists with the file names and column names, and creating a DataFrame to contain the results of the script."
   ]
  },
  {
   "cell_type": "code",
   "execution_count": 72,
   "metadata": {},
   "outputs": [],
   "source": [
    "file_names_exp = ['H20121022datamb', 'H20131021datamb', 'H20141022datamb', 'H20151021datamb', 'h20161022datamb', 'H20171021datamb', 'H20181021datamb']\n",
    "\n",
    "years_list_long = ['2012','2013','2014-2015','2016','2017', '2018']\n",
    "file_names_long = ['H20121284DataMb', 'H20131282datamb', 'H201420151282datamb', 'h20161281datamb', 'h20171281datamb', 'h20181281datamb']\n",
    "years_results = ['2012', '2013', '2014', '2016', '2017', '2018']\n",
    "\n",
    "oni_type_list = ['oni_threshold_','oni_hb', 'oni_nefashot']\n",
    "threshold_list = ['net_to_nefesh','bruto_to_nefesh','total_bruto_to_nefesh','total_net_to_nefesh']\n",
    "\n",
    "results = pd.DataFrame(index = map(str, list(np.arange(2012, 2019))))"
   ]
  },
  {
   "cell_type": "markdown",
   "metadata": {},
   "source": [
    "The loop for the Expenditure Surveys, which starts by importing a survey file."
   ]
  },
  {
   "cell_type": "code",
   "execution_count": 73,
   "metadata": {},
   "outputs": [],
   "source": [
    "for year, file_name in zip(range(2012, 2019), file_names_exp):\n",
    "    df = pd.read_csv(r'C:\\Users\\User\\Google Drive\\k_data\\CBS Households Expenditures Survey\\famexp_' + str(year) + '\\\\'+ file_name + '.csv')\n",
    "    \n",
    "    \"\"\"\n",
    "    Calculating average net income per household and average net income per standard person per household.\n",
    "    \"\"\"\n",
    "    \n",
    "    results.loc[str(year), 'mean_hotzaot'] = np.average(df['net'], weights = df['weight'])\n",
    "    results.loc[str(year), 'mean_to_nefesh_hotzaot'] = np.average(df['net']/df['nefashot'], weights = df['weight'])\n",
    "    \n",
    "    \"\"\"\n",
    "    Calculating the four different types of income that Ariel wanted, \n",
    "    and calculating the number of persons each household represent in the general population.\n",
    "    \"\"\"\n",
    "    \n",
    "    df['net_to_nefesh'] = df['net'] / df['nefeshstandartit']\n",
    "    df['bruto_to_nefesh'] = df['i1kaspit'] / df['nefeshstandartit']\n",
    "    df['total_bruto_to_nefesh'] = (df['i1kaspit'] + df['iinkind']) / df['nefeshstandartit']\n",
    "    df['total_net_to_nefesh'] = df['total_net'] / df['nefeshstandartit']\n",
    "    df['weight_nefesh'] = df['weight'] * df['nefashot']\n",
    "    \n",
    "    \"\"\"\n",
    "    Calculating the thresholds for said types of income.\n",
    "    \"\"\"\n",
    "    \n",
    "    oni_t = {\n",
    "        'net_to_nefesh': weighted_median(df['net_to_nefesh'], df['weight']) / 2,\n",
    "        'bruto_to_nefesh': weighted_median(df['bruto_to_nefesh'], df['weight']) / 2,\n",
    "        'total_bruto_to_nefesh': weighted_median(df['total_bruto_to_nefesh'], df['weight']) / 2,\n",
    "        'total_net_to_nefesh': weighted_median(df['total_net_to_nefesh'], df['weight']) / 2\n",
    "        }\n",
    "    \n",
    "    \"\"\"\n",
    "    A simple loop that save the threshold to the results DataFrame, \n",
    "    and calculate each type of poverty ratio of both households and persons.\n",
    "    \"\"\"\n",
    "    \n",
    "    for t in threshold_list:\n",
    "        results.loc[str(year), 'hotzaot_oni_threshold_' + t] =  oni_t[t]\n",
    "        results.loc[str(year), 'hotzaot_oni_hb_' + t] = df[df[t] < oni_t[t]]['weight'].sum() / df['weight'].sum()\n",
    "        results.loc[str(year), 'hotzaot_oni_nefashot_' + t] = df[df[t] < oni_t[t]]['weight_nefesh'].sum() / df['weight_nefesh'].sum()\n",
    "    "
   ]
  },
  {
   "cell_type": "markdown",
   "metadata": {},
   "source": [
    "The second loop for analysing the Longitudinal Surveys, which starts by importing the relevant file."
   ]
  },
  {
   "cell_type": "code",
   "execution_count": 74,
   "metadata": {},
   "outputs": [],
   "source": [
    "for year, year_result, file_name in zip(years_list_long, years_results, file_names_long):\n",
    "    df = pd.read_csv(r'C:\\Users\\User\\Google Drive\\k_data\\CBS Longitudinal survey\\\\' + year +'\\\\' + file_name +'.csv', encoding = \"ISO-8859-1\", low_memory = False)\n",
    "    \n",
    "    \"\"\"\n",
    "    Renaming the household weights column of 2012 and filling nan's with zeros, \n",
    "    and then droping households with no persons in them (there was only one of these households).\n",
    "    \"\"\"\n",
    "    \n",
    "    if file_name == 'H20121284DataMb':\n",
    "        df.rename(columns = {'MishkalMB' : 'MishkalMb'}, inplace = True)\n",
    "    df.dropna(subset = ['SachNefashot','SacShnatikolel_Lembnew'], axis = 'index', inplace = True)\n",
    "    \n",
    "    \"\"\"\n",
    "    Calculating standard persons for the Longitudinal Surveys, and calculating average gross income per person per houshols. \n",
    "    Also calculate the number of persons each household represent in the general population.\n",
    "    \"\"\"\n",
    "    \n",
    "    df['nefeshstandartit'] = df['SachNefashot'].apply(nefesh_btl)\n",
    "    df['bruto_to_nefesh'] = df['SacShnatikolel_Lembnew'] / df['nefeshstandartit']\n",
    "    df['weight_nefesh'] = df['MishkalMb'] * df['SachNefashot']\n",
    "    \n",
    "    \"\"\"\n",
    "    Calculating average gross income per household and average gross income per person per household. \n",
    "    Also calculating the threshold.\n",
    "    \"\"\"\n",
    "    \n",
    "    results.loc[year_result, 'mean_orech'] = np.average(df['SacShnatikolel_Lembnew'], weights = df['MishkalMb']) / 12\n",
    "    results.loc[year_result, 'mean_to_nefesh_orech'] = np.average(df['SacShnatikolel_Lembnew']/df['SachNefashot'], weights = df['MishkalMb']) / 12\n",
    "    oni_threshold_ii = weighted_median(df['bruto_to_nefesh'], df['MishkalMb']) / 2\n",
    "    \n",
    "    \"\"\"\n",
    "    Saving the threshold to the results Dataframe (and dividing it by 12 to make it monthly threshold), \n",
    "    and calculating the poverty ratio according to this threshold of both households and persons.\n",
    "    \"\"\"\n",
    "    \n",
    "    results.loc[year_result, 'orech_oni_threshold_bruto_to_nefesh'] = oni_threshold_ii / 12\n",
    "    results.loc[year_result, 'orech_oni_hb_bruto_to_nefesh'] = df[df['bruto_to_nefesh'] < oni_threshold_ii]['MishkalMb'].sum() / df['MishkalMb'].sum()\n",
    "    results.loc[year_result, 'orech_oni_nefashot_bruto_to_nefesh'] = df[df['bruto_to_nefesh'] < oni_threshold_ii]['weight_nefesh'].sum() / df['weight_nefesh'].sum()\n",
    "    \n",
    "    \"\"\"\n",
    "    Exporting the results.\n",
    "    \"\"\"\n",
    "    results.to_csv(r'C:\\Users\\User\\Documents\\Projects\\oni_script_results.csv')"
   ]
  }
 ],
 "metadata": {
  "kernelspec": {
   "display_name": "Python 3",
   "language": "python",
   "name": "python3"
  },
  "language_info": {
   "codemirror_mode": {
    "name": "ipython",
    "version": 3
   },
   "file_extension": ".py",
   "mimetype": "text/x-python",
   "name": "python",
   "nbconvert_exporter": "python",
   "pygments_lexer": "ipython3",
   "version": "3.8.3"
  }
 },
 "nbformat": 4,
 "nbformat_minor": 4
}
